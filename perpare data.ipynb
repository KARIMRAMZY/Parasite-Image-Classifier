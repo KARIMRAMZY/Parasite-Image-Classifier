{
 "cells": [
  {
   "cell_type": "code",
   "execution_count": 34,
   "id": "7c54a691",
   "metadata": {},
   "outputs": [],
   "source": [
    "import numpy as np\n",
    "import os\n",
    "import random\n",
    "import shutil\n",
    "import cv2\n",
    "\n",
    "from natsort import natsorted\n",
    "from tensorflow.keras.preprocessing.image import ImageDataGenerator"
   ]
  },
  {
   "cell_type": "markdown",
   "id": "65c5cc03",
   "metadata": {},
   "source": [
    "## Collect Data\n",
    "\n",
    "from two folders with different sub-folders"
   ]
  },
  {
   "cell_type": "code",
   "execution_count": 18,
   "id": "e8cb820b",
   "metadata": {},
   "outputs": [],
   "source": [
    "train1_dataset_path = \"data/train_Images_Source_1/\"\n",
    "train2_dataset_path = \"data/train_Images_Source_2/\""
   ]
  },
  {
   "cell_type": "code",
   "execution_count": 19,
   "id": "a8b451b8",
   "metadata": {},
   "outputs": [],
   "source": [
    "dataset = []\n",
    "for category in os.listdir(train1_dataset_path):\n",
    "    category_path = os.path.join(train1_dataset_path, category)\n",
    "    if os.path.isdir(category_path):\n",
    "        for image_file in os.listdir(category_path):\n",
    "            image_path = os.path.join(category_path, image_file)\n",
    "            dataset.append((image_path, category))"
   ]
  },
  {
   "cell_type": "code",
   "execution_count": 20,
   "id": "a50b628d",
   "metadata": {},
   "outputs": [],
   "source": [
    "for image_file in os.listdir(train2_dataset_path):\n",
    "    category = image_file.split('_')[0]\n",
    "    image_path = os.path.join(train2_dataset_path, image_file)\n",
    "    dataset.append((image_path, category))"
   ]
  },
  {
   "cell_type": "code",
   "execution_count": 21,
   "id": "cdb13caa",
   "metadata": {},
   "outputs": [],
   "source": [
    "random.shuffle(dataset)"
   ]
  },
  {
   "cell_type": "markdown",
   "id": "750c4113",
   "metadata": {},
   "source": [
    "after loading data from different paths it's time to save it!"
   ]
  },
  {
   "cell_type": "code",
   "execution_count": 24,
   "id": "552bd837",
   "metadata": {},
   "outputs": [],
   "source": [
    "all_train =\"data/dataset\"\n",
    "\n",
    "for image_path, category in dataset:\n",
    "    category_folder = os.path.join(all_train, category)\n",
    "    os.makedirs(category_folder, exist_ok=True)\n",
    "    shutil.copy(image_path, category_folder)"
   ]
  },
  {
   "cell_type": "markdown",
   "id": "edb3127e",
   "metadata": {},
   "source": [
    "### Data Splitting"
   ]
  },
  {
   "cell_type": "code",
   "execution_count": 25,
   "id": "3abc8fd7",
   "metadata": {},
   "outputs": [],
   "source": [
    "train_ratio = 0.8\n",
    "train_size = int(len(dataset) * train_ratio)\n",
    "\n",
    "train_dataset = dataset[:train_size]\n",
    "val_dataset = dataset[train_size:]"
   ]
  },
  {
   "cell_type": "code",
   "execution_count": 26,
   "id": "8aaa72f1",
   "metadata": {},
   "outputs": [],
   "source": [
    "train_folder = 'data/train_set'\n",
    "val_folder = 'data/val_set'\n",
    "\n",
    "for image_path, category in train_dataset:\n",
    "    category_folder = os.path.join(train_folder, category)\n",
    "    os.makedirs(category_folder, exist_ok=True)\n",
    "    shutil.copy(image_path, category_folder)\n",
    "\n",
    "for image_path, category in val_dataset:\n",
    "    category_folder = os.path.join(val_folder, category)\n",
    "    os.makedirs(category_folder, exist_ok=True)\n",
    "    shutil.copy(image_path, category_folder)"
   ]
  },
  {
   "cell_type": "markdown",
   "id": "27cb6fce",
   "metadata": {},
   "source": [
    "## Data Over-sampling"
   ]
  },
  {
   "cell_type": "code",
   "execution_count": 27,
   "id": "c7dd61f7",
   "metadata": {},
   "outputs": [],
   "source": [
    "def load_and_augment_image(image_path, datagen):\n",
    "    img = load_image(image_path)\n",
    "    if img is not None:\n",
    "        img = datagen.random_transform(img)\n",
    "    return img\n",
    "\n",
    "def load_image(image_path):\n",
    "    try:\n",
    "        img = cv2.imread(image_path)\n",
    "        if img is not None:\n",
    "            img = cv2.cvtColor(img, cv2.COLOR_BGR2RGB)\n",
    "        return img\n",
    "    except Exception as e:\n",
    "        print(f\"Error loading image {image_path}: {str(e)}\")\n",
    "        return None\n",
    "\n",
    "def save_image(img, path):\n",
    "    try:\n",
    "        img_bgr = cv2.cvtColor(img, cv2.COLOR_RGB2BGR)\n",
    "        cv2.imwrite(path, img_bgr)\n",
    "        print(f\"Saved image to {path}\")\n",
    "    except Exception as e:\n",
    "        print(f\"Error saving image to {path}: {str(e)}\")"
   ]
  },
  {
   "cell_type": "code",
   "execution_count": 32,
   "id": "b02d7265",
   "metadata": {},
   "outputs": [],
   "source": [
    "dataset_path = 'data/dataset'\n",
    "\n",
    "target_num_images = max([len(files) for root, dirs, files in os.walk(dataset_path)])\n",
    "\n",
    "datagen = ImageDataGenerator(\n",
    "    rotation_range=20,\n",
    "    shear_range=0.2,\n",
    "    zoom_range=0.2,\n",
    "    horizontal_flip=True,\n",
    "    fill_mode='nearest'\n",
    ")"
   ]
  },
  {
   "cell_type": "code",
   "execution_count": 35,
   "id": "67525fc7",
   "metadata": {},
   "outputs": [
    {
     "name": "stdout",
     "output_type": "stream",
     "text": [
      "Class Ascariasis needs 754 additional images.\n",
      "Saved image to data/dataset\\Ascariasis\\augmented\\augmented_754.jpg\n",
      "Saved image to data/dataset\\Ascariasis\\augmented\\augmented_753.jpg\n",
      "Saved image to data/dataset\\Ascariasis\\augmented\\augmented_752.jpg\n",
      "Saved image to data/dataset\\Ascariasis\\augmented\\augmented_751.jpg\n",
      "Saved image to data/dataset\\Ascariasis\\augmented\\augmented_750.jpg\n",
      "Saved image to data/dataset\\Ascariasis\\augmented\\augmented_749.jpg\n",
      "Saved image to data/dataset\\Ascariasis\\augmented\\augmented_748.jpg\n",
      "Saved image to data/dataset\\Ascariasis\\augmented\\augmented_747.jpg\n",
      "Saved image to data/dataset\\Ascariasis\\augmented\\augmented_746.jpg\n",
      "Saved image to data/dataset\\Ascariasis\\augmented\\augmented_745.jpg\n",
      "Saved image to data/dataset\\Ascariasis\\augmented\\augmented_744.jpg\n",
      "Saved image to data/dataset\\Ascariasis\\augmented\\augmented_743.jpg\n",
      "Saved image to data/dataset\\Ascariasis\\augmented\\augmented_742.jpg\n",
      "Saved image to data/dataset\\Ascariasis\\augmented\\augmented_741.jpg\n",
      "Saved image to data/dataset\\Ascariasis\\augmented\\augmented_740.jpg\n",
      "Saved image to data/dataset\\Ascariasis\\augmented\\augmented_739.jpg\n",
      "Saved image to data/dataset\\Ascariasis\\augmented\\augmented_738.jpg\n",
      "Saved image to data/dataset\\Ascariasis\\augmented\\augmented_737.jpg\n",
      "Saved image to data/dataset\\Ascariasis\\augmented\\augmented_736.jpg\n",
      "Saved image to data/dataset\\Ascariasis\\augmented\\augmented_735.jpg\n",
      "Saved image to data/dataset\\Ascariasis\\augmented\\augmented_734.jpg\n",
      "Saved image to data/dataset\\Ascariasis\\augmented\\augmented_733.jpg\n",
      "Saved image to data/dataset\\Ascariasis\\augmented\\augmented_732.jpg\n",
      "Saved image to data/dataset\\Ascariasis\\augmented\\augmented_731.jpg\n",
      "Saved image to data/dataset\\Ascariasis\\augmented\\augmented_730.jpg\n",
      "Saved image to data/dataset\\Ascariasis\\augmented\\augmented_729.jpg\n",
      "Saved image to data/dataset\\Ascariasis\\augmented\\augmented_728.jpg\n",
      "Saved image to data/dataset\\Ascariasis\\augmented\\augmented_727.jpg\n",
      "Saved image to data/dataset\\Ascariasis\\augmented\\augmented_726.jpg\n",
      "Saved image to data/dataset\\Ascariasis\\augmented\\augmented_725.jpg\n",
      "Saved image to data/dataset\\Ascariasis\\augmented\\augmented_724.jpg\n",
      "Saved image to data/dataset\\Ascariasis\\augmented\\augmented_723.jpg\n",
      "Saved image to data/dataset\\Ascariasis\\augmented\\augmented_722.jpg\n",
      "Saved image to data/dataset\\Ascariasis\\augmented\\augmented_721.jpg\n",
      "Saved image to data/dataset\\Ascariasis\\augmented\\augmented_720.jpg\n",
      "Saved image to data/dataset\\Ascariasis\\augmented\\augmented_719.jpg\n",
      "Saved image to data/dataset\\Ascariasis\\augmented\\augmented_718.jpg\n",
      "Saved image to data/dataset\\Ascariasis\\augmented\\augmented_717.jpg\n",
      "Saved image to data/dataset\\Ascariasis\\augmented\\augmented_716.jpg\n",
      "Saved image to data/dataset\\Ascariasis\\augmented\\augmented_715.jpg\n",
      "Saved image to data/dataset\\Ascariasis\\augmented\\augmented_714.jpg\n",
      "Saved image to data/dataset\\Ascariasis\\augmented\\augmented_713.jpg\n",
      "Saved image to data/dataset\\Ascariasis\\augmented\\augmented_712.jpg\n",
      "Saved image to data/dataset\\Ascariasis\\augmented\\augmented_711.jpg\n",
      "Saved image to data/dataset\\Ascariasis\\augmented\\augmented_710.jpg\n",
      "Saved image to data/dataset\\Ascariasis\\augmented\\augmented_709.jpg\n",
      "Saved image to data/dataset\\Ascariasis\\augmented\\augmented_708.jpg\n",
      "Saved image to data/dataset\\Ascariasis\\augmented\\augmented_707.jpg\n",
      "Saved image to data/dataset\\Ascariasis\\augmented\\augmented_706.jpg\n",
      "Saved image to data/dataset\\Ascariasis\\augmented\\augmented_705.jpg\n",
      "Saved image to data/dataset\\Ascariasis\\augmented\\augmented_704.jpg\n",
      "Saved image to data/dataset\\Ascariasis\\augmented\\augmented_703.jpg\n",
      "Saved image to data/dataset\\Ascariasis\\augmented\\augmented_702.jpg\n",
      "Saved image to data/dataset\\Ascariasis\\augmented\\augmented_701.jpg\n",
      "Saved image to data/dataset\\Ascariasis\\augmented\\augmented_700.jpg\n",
      "Saved image to data/dataset\\Ascariasis\\augmented\\augmented_699.jpg\n",
      "Saved image to data/dataset\\Ascariasis\\augmented\\augmented_698.jpg\n",
      "Saved image to data/dataset\\Ascariasis\\augmented\\augmented_697.jpg\n",
      "Saved image to data/dataset\\Ascariasis\\augmented\\augmented_696.jpg\n",
      "Saved image to data/dataset\\Ascariasis\\augmented\\augmented_695.jpg\n",
      "Saved image to data/dataset\\Ascariasis\\augmented\\augmented_694.jpg\n",
      "Saved image to data/dataset\\Ascariasis\\augmented\\augmented_693.jpg\n",
      "Saved image to data/dataset\\Ascariasis\\augmented\\augmented_692.jpg\n",
      "Saved image to data/dataset\\Ascariasis\\augmented\\augmented_691.jpg\n",
      "Saved image to data/dataset\\Ascariasis\\augmented\\augmented_690.jpg\n",
      "Saved image to data/dataset\\Ascariasis\\augmented\\augmented_689.jpg\n",
      "Saved image to data/dataset\\Ascariasis\\augmented\\augmented_688.jpg\n",
      "Saved image to data/dataset\\Ascariasis\\augmented\\augmented_687.jpg\n",
      "Saved image to data/dataset\\Ascariasis\\augmented\\augmented_686.jpg\n",
      "Saved image to data/dataset\\Ascariasis\\augmented\\augmented_685.jpg\n",
      "Saved image to data/dataset\\Ascariasis\\augmented\\augmented_684.jpg\n",
      "Saved image to data/dataset\\Ascariasis\\augmented\\augmented_683.jpg\n",
      "Saved image to data/dataset\\Ascariasis\\augmented\\augmented_682.jpg\n",
      "Saved image to data/dataset\\Ascariasis\\augmented\\augmented_681.jpg\n",
      "Saved image to data/dataset\\Ascariasis\\augmented\\augmented_680.jpg\n",
      "Saved image to data/dataset\\Ascariasis\\augmented\\augmented_679.jpg\n",
      "Saved image to data/dataset\\Ascariasis\\augmented\\augmented_678.jpg\n",
      "Saved image to data/dataset\\Ascariasis\\augmented\\augmented_677.jpg\n",
      "Saved image to data/dataset\\Ascariasis\\augmented\\augmented_676.jpg\n",
      "Saved image to data/dataset\\Ascariasis\\augmented\\augmented_675.jpg\n",
      "Saved image to data/dataset\\Ascariasis\\augmented\\augmented_674.jpg\n",
      "Saved image to data/dataset\\Ascariasis\\augmented\\augmented_673.jpg\n",
      "Saved image to data/dataset\\Ascariasis\\augmented\\augmented_672.jpg\n",
      "Saved image to data/dataset\\Ascariasis\\augmented\\augmented_671.jpg\n",
      "Saved image to data/dataset\\Ascariasis\\augmented\\augmented_670.jpg\n",
      "Saved image to data/dataset\\Ascariasis\\augmented\\augmented_669.jpg\n",
      "Saved image to data/dataset\\Ascariasis\\augmented\\augmented_668.jpg\n",
      "Saved image to data/dataset\\Ascariasis\\augmented\\augmented_667.jpg\n",
      "Saved image to data/dataset\\Ascariasis\\augmented\\augmented_666.jpg\n",
      "Saved image to data/dataset\\Ascariasis\\augmented\\augmented_665.jpg\n",
      "Saved image to data/dataset\\Ascariasis\\augmented\\augmented_664.jpg\n",
      "Saved image to data/dataset\\Ascariasis\\augmented\\augmented_663.jpg\n",
      "Saved image to data/dataset\\Ascariasis\\augmented\\augmented_662.jpg\n",
      "Saved image to data/dataset\\Ascariasis\\augmented\\augmented_661.jpg\n",
      "Saved image to data/dataset\\Ascariasis\\augmented\\augmented_660.jpg\n",
      "Saved image to data/dataset\\Ascariasis\\augmented\\augmented_659.jpg\n",
      "Saved image to data/dataset\\Ascariasis\\augmented\\augmented_658.jpg\n"
     ]
    },
    {
     "ename": "KeyboardInterrupt",
     "evalue": "",
     "output_type": "error",
     "traceback": [
      "\u001b[1;31m---------------------------------------------------------------------------\u001b[0m",
      "\u001b[1;31mKeyboardInterrupt\u001b[0m                         Traceback (most recent call last)",
      "Input \u001b[1;32mIn [35]\u001b[0m, in \u001b[0;36m<cell line: 1>\u001b[1;34m()\u001b[0m\n\u001b[0;32m     12\u001b[0m os\u001b[38;5;241m.\u001b[39mmakedirs(augmented_folder, exist_ok\u001b[38;5;241m=\u001b[39m\u001b[38;5;28;01mTrue\u001b[39;00m)\n\u001b[0;32m     14\u001b[0m \u001b[38;5;28;01mwhile\u001b[39;00m num_additional_images \u001b[38;5;241m>\u001b[39m \u001b[38;5;241m0\u001b[39m:\n\u001b[1;32m---> 15\u001b[0m     random_image \u001b[38;5;241m=\u001b[39m random\u001b[38;5;241m.\u001b[39mchoice(\u001b[43mos\u001b[49m\u001b[38;5;241;43m.\u001b[39;49m\u001b[43mlistdir\u001b[49m\u001b[43m(\u001b[49m\u001b[43mclass_folder_path\u001b[49m\u001b[43m)\u001b[49m)\n\u001b[0;32m     16\u001b[0m     image_path \u001b[38;5;241m=\u001b[39m os\u001b[38;5;241m.\u001b[39mpath\u001b[38;5;241m.\u001b[39mjoin(class_folder_path, random_image)\n\u001b[0;32m     18\u001b[0m     img \u001b[38;5;241m=\u001b[39m load_and_augment_image(image_path, datagen)\n",
      "\u001b[1;31mKeyboardInterrupt\u001b[0m: "
     ]
    }
   ],
   "source": [
    "for class_folder in os.listdir(dataset_path):\n",
    "    class_folder_path = os.path.join(dataset_path, class_folder)\n",
    "    \n",
    "    num_images = len(os.listdir(class_folder_path))\n",
    "    \n",
    "    num_additional_images = target_num_images - num_images\n",
    "    \n",
    "    if num_additional_images > 0:\n",
    "        print(f'Class {class_folder} needs {num_additional_images} additional images.')\n",
    "        \n",
    "        augmented_folder = os.path.join(class_folder_path, 'augmented')\n",
    "        os.makedirs(augmented_folder, exist_ok=True)\n",
    "        \n",
    "        while num_additional_images > 0:\n",
    "            random_image = random.choice(os.listdir(class_folder_path))\n",
    "            image_path = os.path.join(class_folder_path, random_image)\n",
    "            \n",
    "            img = load_and_augment_image(image_path, datagen)\n",
    "            \n",
    "            augmented_image_path = os.path.join(augmented_folder, f'augmented_{num_additional_images}.jpg')\n",
    "            save_image(img, augmented_image_path)\n",
    "            \n",
    "            num_additional_images -= 1\n",
    "\n",
    "print('Oversampling completed!')"
   ]
  },
  {
   "cell_type": "markdown",
   "id": "e0ae7cb7",
   "metadata": {},
   "source": [
    "## Data Under-sampling"
   ]
  },
  {
   "cell_type": "code",
   "execution_count": 37,
   "id": "67c2c64d",
   "metadata": {},
   "outputs": [],
   "source": [
    "all_train_path = \"data/dataset\""
   ]
  },
  {
   "cell_type": "code",
   "execution_count": 38,
   "id": "5728e4ca",
   "metadata": {},
   "outputs": [],
   "source": [
    "dataset = []\n",
    "for category in os.listdir(all_train_path):\n",
    "    category_path = os.path.join(all_train_path, category)\n",
    "    if os.path.isdir(category_path):\n",
    "        for image_file in os.listdir(category_path):\n",
    "            image_path = os.path.join(category_path, image_file)\n",
    "            dataset.append((image_path, category))"
   ]
  },
  {
   "cell_type": "code",
   "execution_count": 39,
   "id": "bca8b736",
   "metadata": {},
   "outputs": [],
   "source": [
    "random.shuffle(dataset)"
   ]
  },
  {
   "cell_type": "code",
   "execution_count": 40,
   "id": "078ea2b8",
   "metadata": {},
   "outputs": [],
   "source": [
    "train_ratio = 0.8\n",
    "train_size = int(len(dataset) * train_ratio)\n",
    "\n",
    "train_dataset = dataset[:train_size]\n",
    "val_dataset = dataset[train_size:]"
   ]
  },
  {
   "cell_type": "code",
   "execution_count": 42,
   "id": "e63afb73",
   "metadata": {},
   "outputs": [
    {
     "name": "stdout",
     "output_type": "stream",
     "text": [
      "train done!\n",
      "val done!\n"
     ]
    }
   ],
   "source": [
    "train_folder = 'data/train_set_undersample'\n",
    "val_folder = 'data/val_set_undersample'\n",
    "\n",
    "for image_path, category in train_dataset:\n",
    "    category_folder = os.path.join(train_folder, category)\n",
    "    os.makedirs(category_folder, exist_ok=True)\n",
    "    shutil.copy(image_path, category_folder)\n",
    "\n",
    "print(\"train done!\")\n",
    "\n",
    "for image_path, category in val_dataset:\n",
    "    category_folder = os.path.join(val_folder, category)\n",
    "    os.makedirs(category_folder, exist_ok=True)\n",
    "    shutil.copy(image_path, category_folder)\n",
    "    \n",
    "print(\"val done!\")"
   ]
  },
  {
   "cell_type": "code",
   "execution_count": null,
   "id": "15e5065b",
   "metadata": {},
   "outputs": [],
   "source": []
  },
  {
   "cell_type": "code",
   "execution_count": null,
   "id": "8b285803",
   "metadata": {},
   "outputs": [],
   "source": []
  }
 ],
 "metadata": {
  "kernelspec": {
   "display_name": "Python 3 (ipykernel)",
   "language": "python",
   "name": "python3"
  },
  "language_info": {
   "codemirror_mode": {
    "name": "ipython",
    "version": 3
   },
   "file_extension": ".py",
   "mimetype": "text/x-python",
   "name": "python",
   "nbconvert_exporter": "python",
   "pygments_lexer": "ipython3",
   "version": "3.9.12"
  }
 },
 "nbformat": 4,
 "nbformat_minor": 5
}
