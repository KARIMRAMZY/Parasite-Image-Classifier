{
 "cells": [
  {
   "cell_type": "code",
   "execution_count": null,
   "id": "4fb1da4b",
   "metadata": {},
   "outputs": [],
   "source": [
    "import os\n",
    "import shutil\n",
    "from glob import glob\n",
    "import cv2\n",
    "import numpy as np\n",
    "from matplotlib import pyplot as plt\n",
    "\n",
    "# Source directory where the original image is located\n",
    "source_directory = r\"C:\\Users\\Moham\\OneDrive\\Pictures\\test\"\n",
    "\n",
    "# Destination directory where you want to save the processed image\n",
    "destination_directory = r\"C:\\Users\\Moham\\OneDrive\\Pictures\\test2\"\n",
    "\n",
    "# Define the file pattern to filter for image files (e.g., *.jpg, *.png, etc.)\n",
    "file_pattern = \"*.jpg\"  # You can adjust this to match the file types you want\n",
    "\n",
    "# Use glob to get a list of image file paths\n",
    "image_files = glob(os.path.join(source_directory , file_pattern))\n",
    "\n",
    "# Loop through the image files\n",
    "for image_file in image_files:\n",
    "         # Load the image\n",
    "    image = cv2.imread(image_file)  # Read the image in grayscale (0)\n",
    "    # Calculate the histogram of the original image\n",
    "    hist, bins = np.histogram(image, 256, [0, 256])\n",
    "\n",
    "    # Calculate the cumulative distribution function (CDF)\n",
    "    cdf = hist.cumsum()\n",
    "    cdf_normalized = cdf * hist.max() / cdf.max()\n",
    "\n",
    "    # Create a dictionary for mapping the original pixel values to the equalized values\n",
    "    cdf_m = np.ma.masked_equal(cdf, 0)\n",
    "    cdf_m = (cdf_m - cdf_m.min()) * 255 / (cdf_m.max() - cdf_m.min())\n",
    "    cdf = np.ma.filled(cdf_m, 0).astype('uint8')\n",
    "\n",
    "    # Apply the equalization to the image using the CDF mapping\n",
    "    equalized_image = cdf[image]\n",
    "\n",
    "    # Display the original and equalized images\n",
    "    cv2.imshow('Original Image', image)\n",
    "    cv2.imshow('Equalized Image', equalized_image)\n",
    "    plt.hist(image.ravel(),256,[0,256])\n",
    "    plt.show()\n",
    "    plt.hist(equalized_image.ravel(),256,[0,256])\n",
    "    plt.show()\n",
    "        # Save the processed image to the destination directory\n",
    "    output_image_path = os.path.join(destination_directory, image_file)\n",
    "    cv2.imwrite(output_image_path, equalized_image)\n",
    "\n",
    "    print(\"Histogram equalization applied and saved to\", output_image_path)\n",
    "    cv2.waitKey(0)\n",
    "    cv2.destroyAllWindows()\n",
    "\n",
    "\n"
   ]
  }
 ],
 "metadata": {
  "kernelspec": {
   "display_name": "Python 3 (ipykernel)",
   "language": "python",
   "name": "python3"
  },
  "language_info": {
   "codemirror_mode": {
    "name": "ipython",
    "version": 3
   },
   "file_extension": ".py",
   "mimetype": "text/x-python",
   "name": "python",
   "nbconvert_exporter": "python",
   "pygments_lexer": "ipython3",
   "version": "3.9.7"
  }
 },
 "nbformat": 4,
 "nbformat_minor": 5
}
